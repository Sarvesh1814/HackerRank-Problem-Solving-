{
  "nbformat": 4,
  "nbformat_minor": 0,
  "metadata": {
    "colab": {
      "name": "Introduction to sets.ipynb",
      "provenance": []
    },
    "kernelspec": {
      "name": "python3",
      "display_name": "Python 3"
    },
    "language_info": {
      "name": "python"
    }
  },
  "cells": [
    {
      "cell_type": "markdown",
      "metadata": {
        "id": "2qMFx3xQeknO"
      },
      "source": [
        "Introduction to sets"
      ]
    },
    {
      "cell_type": "code",
      "metadata": {
        "id": "MIhnKXgIfNjz"
      },
      "source": [
        "def average(array):\n",
        "    # your code goes here\n",
        "    a = set(array)\n",
        "    b = len(a)\n",
        "    c = sum(a)\n",
        "    average = c / b\n",
        "\n",
        "    return average\n",
        "\n"
      ],
      "execution_count": null,
      "outputs": []
    }
  ]
}