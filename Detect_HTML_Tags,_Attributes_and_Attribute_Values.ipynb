{
  "nbformat": 4,
  "nbformat_minor": 0,
  "metadata": {
    "colab": {
      "name": "Detect HTML Tags, Attributes and Attribute Values.ipynb",
      "provenance": []
    },
    "kernelspec": {
      "name": "python3",
      "display_name": "Python 3"
    },
    "language_info": {
      "name": "python"
    }
  },
  "cells": [
    {
      "cell_type": "markdown",
      "metadata": {
        "id": "1jdNJDWzbGZD"
      },
      "source": [
        "Detect HTML Tags, Attributes and Attribute Values"
      ]
    },
    {
      "cell_type": "code",
      "metadata": {
        "id": "dJ6BuioJex7E"
      },
      "source": [
        "import re\n",
        "num_lines = input()\n",
        "lines = [raw_input() for i in xrange(num_lines)]\n",
        "text = ' '.join(lines)\n",
        "text = re.sub(r'<!--.*?-->', '', text, flags=re.DOTALL)\n",
        "\n",
        "from HTMLParser import HTMLParser\n",
        "class Parser(HTMLParser):\n",
        "    def handle_starttag(self, tag, attrs):\n",
        "        print tag\n",
        "        for name, val in attrs:\n",
        "            print '->', name, '>', val\n",
        "\n",
        "Parser().feed(text)\n",
        "\n"
      ],
      "execution_count": null,
      "outputs": []
    }
  ]
}