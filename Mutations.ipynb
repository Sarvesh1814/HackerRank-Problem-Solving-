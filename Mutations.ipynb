{
  "nbformat": 4,
  "nbformat_minor": 0,
  "metadata": {
    "colab": {
      "name": "Mutations.ipynb",
      "provenance": []
    },
    "kernelspec": {
      "name": "python3",
      "display_name": "Python 3"
    },
    "language_info": {
      "name": "python"
    }
  },
  "cells": [
    {
      "cell_type": "markdown",
      "metadata": {
        "id": "1jdNJDWzbGZD"
      },
      "source": [
        "Mutations"
      ]
    },
    {
      "cell_type": "code",
      "metadata": {
        "id": "dJ6BuioJex7E"
      },
      "source": [
        "def mutate_string(string, position, character):\n",
        "    pos = position+1\n",
        "    Output = string[:position]+character+string[pos:]\n",
        "    return Output"
      ],
      "execution_count": null,
      "outputs": []
    }
  ]
}