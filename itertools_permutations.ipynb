{
  "cells": [
    {
      "cell_type": "markdown",
      "metadata": {
        "id": "2qMFx3xQeknO"
      },
      "source": [
        "itertools permutations"
      ]
    },
    {
      "cell_type": "code",
      "execution_count": null,
      "metadata": {
        "id": "MIhnKXgIfNjz"
      },
      "outputs": [],
      "source": [
        "from itertools import permutations\n",
        "s,k =input().split(\" \")\n",
        "p = (list(permutations(s,int(k))))\n",
        "p.sort()\n",
        "for i in p:\n",
        "    print(\"\".join(i))\n",
        "    \n"
      ]
    }
  ],
  "metadata": {
    "colab": {
      "name": "itertools_permutations.ipynb",
      "provenance": []
    },
    "kernelspec": {
      "display_name": "Python 3",
      "name": "python3"
    },
    "language_info": {
      "name": "python"
    }
  },
  "nbformat": 4,
  "nbformat_minor": 0
}
