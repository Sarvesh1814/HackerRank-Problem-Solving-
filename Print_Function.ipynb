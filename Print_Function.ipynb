{
  "nbformat": 4,
  "nbformat_minor": 0,
  "metadata": {
    "colab": {
      "name": "Print Function.ipynb",
      "provenance": []
    },
    "kernelspec": {
      "name": "python3",
      "display_name": "Python 3"
    },
    "language_info": {
      "name": "python"
    }
  },
  "cells": [
    {
      "cell_type": "markdown",
      "metadata": {
        "id": "1jdNJDWzbGZD"
      },
      "source": [
        "Print Function"
      ]
    },
    {
      "cell_type": "code",
      "metadata": {
        "id": "dJ6BuioJex7E"
      },
      "source": [
        "from __future__ import print_function\n",
        "\n",
        "if __name__ == '__main__':\n",
        "    n = int(raw_input())\n",
        "for i in range(n):\n",
        "        print(i+1,end=\"\")\n",
        "\n"
      ],
      "execution_count": null,
      "outputs": []
    }
  ]
}