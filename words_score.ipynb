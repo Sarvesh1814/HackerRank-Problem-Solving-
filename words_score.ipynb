{
  "nbformat": 4,
  "nbformat_minor": 0,
  "metadata": {
    "colab": {
      "name": "words_score.ipynb",
      "provenance": []
    },
    "kernelspec": {
      "name": "python3",
      "display_name": "Python 3"
    },
    "language_info": {
      "name": "python"
    }
  },
  "cells": [
    {
      "cell_type": "markdown",
      "metadata": {
        "id": "2qMFx3xQeknO"
      },
      "source": [
        "words score"
      ]
    },
    {
      "cell_type": "code",
      "metadata": {
        "id": "MIhnKXgIfNjz"
      },
      "source": [
        "def is_vowel(letter):\n",
        "    return letter in ['a', 'e', 'i', 'o', 'u', 'y']\n",
        "\n",
        "def score_words(words):\n",
        "    score = 0\n",
        "    for word in words:\n",
        "        num_vowels = 0\n",
        "        for letter in word:\n",
        "            if is_vowel(letter):\n",
        "                num_vowels += 1\n",
        "        if num_vowels % 2 == 0:\n",
        "            score += 2\n",
        "        else:\n",
        "            ++score\n",
        "    return score\n",
        "\n"
      ],
      "execution_count": null,
      "outputs": []
    }
  ]
}