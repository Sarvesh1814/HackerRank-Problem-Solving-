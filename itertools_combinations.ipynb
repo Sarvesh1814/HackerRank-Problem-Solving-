{
  "cells": [
    {
      "cell_type": "markdown",
      "metadata": {
        "id": "2qMFx3xQeknO"
      },
      "source": [
        "itertools combinations"
      ]
    },
    {
      "cell_type": "code",
      "execution_count": null,
      "metadata": {
        "id": "MIhnKXgIfNjz"
      },
      "outputs": [],
      "source": [
        "from itertools import combinations\n",
        "\n",
        "s, k = input().split(\" \")\n",
        "for i in range(1 ,int(k)+1):\n",
        "    for j in combinations(sorted(s),i):\n",
        "        print(\"\".join(j))\n"
      ]
    }
  ],
  "metadata": {
    "colab": {
      "name": "itertools_combinations.ipynb",
      "provenance": []
    },
    "kernelspec": {
      "display_name": "Python 3",
      "name": "python3"
    },
    "language_info": {
      "name": "python"
    }
  },
  "nbformat": 4,
  "nbformat_minor": 0
}
