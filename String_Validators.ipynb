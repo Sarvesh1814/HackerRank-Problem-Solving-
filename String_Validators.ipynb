{
  "nbformat": 4,
  "nbformat_minor": 0,
  "metadata": {
    "colab": {
      "name": "String Validators.ipynb",
      "provenance": []
    },
    "kernelspec": {
      "name": "python3",
      "display_name": "Python 3"
    },
    "language_info": {
      "name": "python"
    }
  },
  "cells": [
    {
      "cell_type": "markdown",
      "metadata": {
        "id": "1jdNJDWzbGZD"
      },
      "source": [
        "String Validators"
      ]
    },
    {
      "cell_type": "code",
      "metadata": {
        "id": "dJ6BuioJex7E"
      },
      "source": [
        "if __name__ == '__main__':\n",
        "    S = input()\n",
        "    print(any(char.isalnum() for char in S))\n",
        "    print(any(char.isalpha() for char in S))\n",
        "    print(any(char.isdigit() for char in S))\n",
        "    print(any(char.islower() for char in S))\n",
        "    print(any(char.isupper() for char in S))"
      ],
      "execution_count": null,
      "outputs": []
    }
  ]
}