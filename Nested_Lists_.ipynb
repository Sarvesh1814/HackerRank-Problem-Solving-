{
  "nbformat": 4,
  "nbformat_minor": 0,
  "metadata": {
    "colab": {
      "name": "Nested Lists .ipynb",
      "provenance": []
    },
    "kernelspec": {
      "name": "python3",
      "display_name": "Python 3"
    },
    "language_info": {
      "name": "python"
    }
  },
  "cells": [
    {
      "cell_type": "markdown",
      "metadata": {
        "id": "1jdNJDWzbGZD"
      },
      "source": [
        "Nested Lists"
      ]
    },
    {
      "cell_type": "code",
      "metadata": {
        "id": "dJ6BuioJex7E"
      },
      "source": [
        "if __name__ == '__main__':\n",
        "   a = [[raw_input(), float(raw_input())] for i in xrange(int(raw_input()))]\n",
        "s = sorted(set([x[1] for x in a]))\n",
        "for name in sorted(x[0] for x in a if x[1] == s[1]):\n",
        "    print name"
      ],
      "execution_count": null,
      "outputs": []
    }
  ]
}