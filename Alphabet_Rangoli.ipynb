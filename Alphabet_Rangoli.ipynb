{
  "nbformat": 4,
  "nbformat_minor": 0,
  "metadata": {
    "colab": {
      "name": "Alphabet Rangoli.ipynb",
      "provenance": []
    },
    "kernelspec": {
      "name": "python3",
      "display_name": "Python 3"
    },
    "language_info": {
      "name": "python"
    }
  },
  "cells": [
    {
      "cell_type": "markdown",
      "metadata": {
        "id": "1jdNJDWzbGZD"
      },
      "source": [
        "Alphabet Rangoli\n"
      ]
    },
    {
      "cell_type": "code",
      "metadata": {
        "id": "dJ6BuioJex7E"
      },
      "source": [
        "def print_rangoli(size):\n",
        "    # your code goes here\n",
        "    width  = size*4-3\n",
        "    string = ''\n",
        "\n",
        "    for i in range(1,size+1):\n",
        "        for j in range(0,i):\n",
        "            string += chr(96+size-j)\n",
        "            if len(string) < width :\n",
        "                string += '-'\n",
        "        for k in range(i-1,0,-1):    \n",
        "            string += chr(97+size-k)\n",
        "            if len(string) < width :\n",
        "                string += '-'\n",
        "        print(string.center(width,'-'))\n",
        "        string = ''\n",
        "\n",
        "    for i in range(size-1,0,-1):\n",
        "        string = ''\n",
        "        for j in range(0,i):\n",
        "            string += chr(96+size-j)\n",
        "            if len(string) < width :\n",
        "                string += '-'\n",
        "        for k in range(i-1,0,-1):\n",
        "            string += chr(97+size-k)\n",
        "            if len(string) < width :\n",
        "                string += '-'\n",
        "        print(string.center(width,'-'))"
      ],
      "execution_count": null,
      "outputs": []
    }
  ]
}