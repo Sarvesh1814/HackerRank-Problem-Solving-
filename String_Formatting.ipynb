{
  "nbformat": 4,
  "nbformat_minor": 0,
  "metadata": {
    "colab": {
      "name": "String Formatting.ipynb",
      "provenance": []
    },
    "kernelspec": {
      "name": "python3",
      "display_name": "Python 3"
    },
    "language_info": {
      "name": "python"
    }
  },
  "cells": [
    {
      "cell_type": "markdown",
      "metadata": {
        "id": "1jdNJDWzbGZD"
      },
      "source": [
        "String Formatting"
      ]
    },
    {
      "cell_type": "code",
      "metadata": {
        "id": "dJ6BuioJex7E"
      },
      "source": [
        "def print_formatted(number):\n",
        "    # your code goes here\n",
        "    l1 = len(bin(number)[2:])\n",
        "   \n",
        "    for i in range(1,number+1):\n",
        "        print(str(i).rjust(l1,' '),end=\" \")\n",
        "        print(oct(i)[2:].rjust(l1,' '),end=\" \")\n",
        "        print(((hex(i)[2:]).upper()).rjust(l1,' '),end=\" \")\n",
        "        print(bin(i)[2:].rjust(l1,' '),end=\" \")\n",
        "        print(\"\")"
      ],
      "execution_count": null,
      "outputs": []
    }
  ]
}