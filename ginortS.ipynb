{
  "nbformat": 4,
  "nbformat_minor": 0,
  "metadata": {
    "colab": {
      "name": "ginortS.ipynb",
      "provenance": []
    },
    "kernelspec": {
      "name": "python3",
      "display_name": "Python 3"
    },
    "language_info": {
      "name": "python"
    }
  },
  "cells": [
    {
      "cell_type": "markdown",
      "metadata": {
        "id": "2qMFx3xQeknO"
      },
      "source": [
        "ginortS"
      ]
    },
    {
      "cell_type": "code",
      "metadata": {
        "id": "MIhnKXgIfNjz"
      },
      "source": [
        "a,b,c,d = [],[],[],[]\n",
        "for i in sorted(input()):\n",
        "    if i.isalpha():\n",
        "        x = a if i.isupper() else b\n",
        "    else:\n",
        "        x = c if int(i) % 2 == 0 else d\n",
        "    x.append(i)\n",
        "print(\"\".join(b +a + d + c))\n",
        "\n"
      ],
      "execution_count": null,
      "outputs": []
    }
  ]
}