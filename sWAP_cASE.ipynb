{
  "nbformat": 4,
  "nbformat_minor": 0,
  "metadata": {
    "colab": {
      "name": "sWAP cASE.ipynb",
      "provenance": []
    },
    "kernelspec": {
      "name": "python3",
      "display_name": "Python 3"
    },
    "language_info": {
      "name": "python"
    }
  },
  "cells": [
    {
      "cell_type": "markdown",
      "metadata": {
        "id": "1jdNJDWzbGZD"
      },
      "source": [
        "sWAP cASE"
      ]
    },
    {
      "cell_type": "code",
      "metadata": {
        "id": "dJ6BuioJex7E"
      },
      "source": [
        "def swap_case(s):\n",
        "    \n",
        "    Output = '';\n",
        "    for char in s:\n",
        "        if(char.isupper()==True):\n",
        "            Output += (char.lower());\n",
        "        elif(char.islower()==True):\n",
        "            Output += (char.upper());\n",
        "        else:\n",
        "            Output += char;\n",
        "    return Output;\n",
        "\n"
      ],
      "execution_count": null,
      "outputs": []
    }
  ]
}