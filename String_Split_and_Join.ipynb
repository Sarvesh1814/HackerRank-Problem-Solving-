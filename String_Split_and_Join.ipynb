{
  "nbformat": 4,
  "nbformat_minor": 0,
  "metadata": {
    "colab": {
      "name": "String Split and Join.ipynb",
      "provenance": []
    },
    "kernelspec": {
      "name": "python3",
      "display_name": "Python 3"
    },
    "language_info": {
      "name": "python"
    }
  },
  "cells": [
    {
      "cell_type": "markdown",
      "metadata": {
        "id": "1jdNJDWzbGZD"
      },
      "source": [
        "String Split and Join"
      ]
    },
    {
      "cell_type": "code",
      "metadata": {
        "id": "dJ6BuioJex7E"
      },
      "source": [
        "def split_and_join(line):\n",
        "    # write your code here\n",
        "    a = line.split(\" \")\n",
        "    a = \"-\".join(a)\n",
        "    return a"
      ],
      "execution_count": null,
      "outputs": []
    }
  ]
}