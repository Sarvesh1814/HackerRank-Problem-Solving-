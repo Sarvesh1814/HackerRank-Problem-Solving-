{
  "nbformat": 4,
  "nbformat_minor": 0,
  "metadata": {
    "colab": {
      "name": "Iterables and Iterators.ipynb",
      "provenance": []
    },
    "kernelspec": {
      "name": "python3",
      "display_name": "Python 3"
    },
    "language_info": {
      "name": "python"
    }
  },
  "cells": [
    {
      "cell_type": "markdown",
      "metadata": {
        "id": "2qMFx3xQeknO"
      },
      "source": [
        "Iterables and Iterators"
      ]
    },
    {
      "cell_type": "code",
      "metadata": {
        "id": "MIhnKXgIfNjz"
      },
      "source": [
        "n = int(input())\n",
        "s = input().split()\n",
        "c = int(input())\n",
        "from itertools import combinations\n",
        "\n",
        "\n",
        "x = list(combinations(s, c))\n",
        "list1 = []\n",
        "for i in x:\n",
        "    for j in i:\n",
        "        if j == \"a\":\n",
        "            list1.append(j)\n",
        "            break\n",
        "prob = len(list1) / len(x)\n",
        "print(round(prob , 12))\n",
        "\n"
      ],
      "execution_count": null,
      "outputs": []
    }
  ]
}