{
  "nbformat": 4,
  "nbformat_minor": 0,
  "metadata": {
    "colab": {
      "name": "The Minion Game.ipynb",
      "provenance": []
    },
    "kernelspec": {
      "name": "python3",
      "display_name": "Python 3"
    },
    "language_info": {
      "name": "python"
    }
  },
  "cells": [
    {
      "cell_type": "markdown",
      "metadata": {
        "id": "1jdNJDWzbGZD"
      },
      "source": [
        "The Minion Game\n"
      ]
    },
    {
      "cell_type": "code",
      "metadata": {
        "id": "dJ6BuioJex7E"
      },
      "source": [
        "\n",
        "def minion_game(string):\n",
        "    # your code goes here\n",
        "    player1 = 0;\n",
        "    player2 = 0;\n",
        "    str_len = len(string)\n",
        "    for i in range(str_len):\n",
        "        if s[i] in \"AEIOU\":\n",
        "            player1 += (str_len)-i\n",
        "        else :\n",
        "            player2 += (str_len)-i\n",
        "    \n",
        "    if player1 > player2:\n",
        "        print(\"Kevin\", player1)\n",
        "    elif player1 < player2:\n",
        "        print(\"Stuart\",player2)\n",
        "    elif player1 == player2:\n",
        "        print(\"Draw\")\n",
        "    else :\n",
        "        print(\"Draw\")"
      ],
      "execution_count": null,
      "outputs": []
    }
  ]
}