{
  "nbformat": 4,
  "nbformat_minor": 0,
  "metadata": {
    "colab": {
      "name": "Map_Lambda.ipynb",
      "provenance": []
    },
    "kernelspec": {
      "name": "python3",
      "display_name": "Python 3"
    },
    "language_info": {
      "name": "python"
    }
  },
  "cells": [
    {
      "cell_type": "markdown",
      "metadata": {
        "id": "2qMFx3xQeknO"
      },
      "source": [
        "Map and Lambda Function"
      ]
    },
    {
      "cell_type": "code",
      "metadata": {
        "id": "MIhnKXgIfNjz"
      },
      "source": [
        "cube = lambda x:x**3 # complete the lambda function \n",
        "\n",
        "def fibonacci(n):\n",
        "    # return a list of fibonacci numbers\n",
        "    a = 0\n",
        "    b= 1\n",
        "    c= 0\n",
        "    x = 0\n",
        "    l = []\n",
        "    while x<n:\n",
        "        x +=1\n",
        "        c =a+b\n",
        "        l.append(a)\n",
        "        a= b\n",
        "        b =c \n",
        "    return l\n"
      ],
      "execution_count": null,
      "outputs": []
    }
  ]
}