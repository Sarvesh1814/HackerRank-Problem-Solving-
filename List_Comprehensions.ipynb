{
  "nbformat": 4,
  "nbformat_minor": 0,
  "metadata": {
    "colab": {
      "name": "List Comprehensions.ipynb",
      "provenance": []
    },
    "kernelspec": {
      "name": "python3",
      "display_name": "Python 3"
    },
    "language_info": {
      "name": "python"
    }
  },
  "cells": [
    {
      "cell_type": "markdown",
      "metadata": {
        "id": "1jdNJDWzbGZD"
      },
      "source": [
        "List Comprehensions"
      ]
    },
    {
      "cell_type": "code",
      "metadata": {
        "id": "dJ6BuioJex7E"
      },
      "source": [
        "if __name__ == '__main__':\n",
        "    x = int(raw_input())\n",
        "    y = int(raw_input())\n",
        "    z = int(raw_input())\n",
        "    n = int(raw_input())\n",
        "    \n",
        "print([[a, b, c] for a in range(x + 1) for b in range(y + 1) for c in range( z + 1) if a+b+c != n ])\n",
        "\n",
        "\n",
        "\n"
      ],
      "execution_count": null,
      "outputs": []
    }
  ]
}