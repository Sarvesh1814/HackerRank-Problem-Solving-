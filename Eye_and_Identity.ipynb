{
  "nbformat": 4,
  "nbformat_minor": 0,
  "metadata": {
    "colab": {
      "name": "Eye and Identity.ipynb",
      "provenance": []
    },
    "kernelspec": {
      "name": "python3",
      "display_name": "Python 3"
    },
    "language_info": {
      "name": "python"
    }
  },
  "cells": [
    {
      "cell_type": "markdown",
      "metadata": {
        "id": "1jdNJDWzbGZD"
      },
      "source": [
        "Eye and Identity\n"
      ]
    },
    {
      "cell_type": "code",
      "metadata": {
        "id": "dJ6BuioJex7E"
      },
      "source": [
        "import numpy\n",
        "numpy.set_printoptions(sign=' ')\n",
        "\n",
        "N, M = map(int, input().split())\n",
        "eye = numpy.eye(N, M)\n",
        "print(eye)"
      ],
      "execution_count": null,
      "outputs": []
    }
  ]
}