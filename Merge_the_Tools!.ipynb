{
  "nbformat": 4,
  "nbformat_minor": 0,
  "metadata": {
    "colab": {
      "name": "Merge the Tools!.ipynb",
      "provenance": []
    },
    "kernelspec": {
      "name": "python3",
      "display_name": "Python 3"
    },
    "language_info": {
      "name": "python"
    }
  },
  "cells": [
    {
      "cell_type": "markdown",
      "metadata": {
        "id": "1jdNJDWzbGZD"
      },
      "source": [
        "Merge the Tools!\n"
      ]
    },
    {
      "cell_type": "code",
      "metadata": {
        "id": "dJ6BuioJex7E"
      },
      "source": [
        "def merge_the_tools(string, k):\n",
        "    # your code goes here\n",
        "    for i in range(0,len(string), k):\n",
        "        #slice string upto k characters\n",
        "        line = string[i:i+k]\n",
        "        seen = set()\n",
        "        for i in line:\n",
        "            #only print if we haven't already seen this character\n",
        "            if i not in seen:\n",
        "                print(i,end=\"\")\n",
        "                seen.add(i)\n",
        "        #prints a new line\n",
        "        print()\n"
      ],
      "execution_count": null,
      "outputs": []
    }
  ]
}